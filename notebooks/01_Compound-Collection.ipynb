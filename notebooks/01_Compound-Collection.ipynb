{
 "cells": [
  {
   "cell_type": "markdown",
   "id": "0f1dbae4",
   "metadata": {},
   "source": [
    "# Compound Collection behavior"
   ]
  },
  {
   "cell_type": "code",
   "execution_count": null,
   "id": "90a6d618-2740-42c8-96d4-e063d98f212b",
   "metadata": {},
   "outputs": [],
   "source": [
    "import numpy as np\n",
    "from scipy.spatial.transform.rotation import Rotation as R\n",
    "import plotly.graph_objects as go\n",
    "import magpylib as magpy\n",
    "from magpylib._src.display.plotly.plotly_base_traces import make_BasePrism\n",
    "\n",
    "magpy.defaults.display.backend = \"plotly\"\n",
    "\n",
    "\n",
    "def make_wheel(Ncubes=6, height=10, diameter=36, path_len=5, name=None):\n",
    "    cs_lambda = lambda: magpy.magnet.Cuboid(\n",
    "        (1, 0, 0), dimension=[height] * 3, position=(diameter / 2, 0, 0)\n",
    "    )\n",
    "    s0 = cs_lambda().rotate_from_angax(\n",
    "        np.linspace(0.0, 360.0, Ncubes, endpoint=False), \"z\", anchor=(0, 0, 0), start=0\n",
    "    )\n",
    "    cs_list = []\n",
    "    for ind in range(Ncubes):\n",
    "        s = cs_lambda()\n",
    "        s.position = s0.position[ind]\n",
    "        s.orientation = s0.orientation[ind]\n",
    "        cs_list.append(s)\n",
    "    c = magpy.Collection(cs_list)\n",
    "    c.rotate_from_angax(90, \"x\")\n",
    "    c.rotate_from_angax(\n",
    "        np.linspace(90, 360, path_len), axis=\"z\", start=0, anchor=(80, 0, 0)\n",
    "    )\n",
    "    c.move(np.linspace((0, 0, 0), (0, 0, 200), path_len), start=0)\n",
    "    c.style.name = name\n",
    "\n",
    "    trace = make_BasePrism(\n",
    "        base_vertices=Ncubes, diameter=diameter + height * 2, height=height * 0.5\n",
    "    )\n",
    "    trace_plotly = {**trace, \"opacity\": 0.5, \"color\": \"blue\"}\n",
    "    c.style.model3d.data = [dict(backend=\"plotly\", trace=trace_plotly)]\n",
    "    return c\n",
    "\n",
    "\n",
    "def create_compound_set(show=True, **kwargs):\n",
    "    c1 = make_wheel(name=\"Magnetic Wheel c1 moved/rotated\")\n",
    "    c1.set_children_styles(\n",
    "        path_show=False, \n",
    "        magnetization_color_north='magenta',\n",
    "        magnetization_color_south='cyan')\n",
    "    c2 = make_wheel(name=\"Magnetic Wheel c1\")\n",
    "    c2.style.model3d.data[0].trace[\"color\"] = \"red\"\n",
    "    c2.style.model3d.data[0].trace[\"opacity\"] = 0.1\n",
    "    c2.set_children_styles(path_show=False, opacity=0.1)\n",
    "    #c2.move((-200, 0, 0))\n",
    "    for k, v in kwargs.items():\n",
    "        setattr(c1, k, eval(v))\n",
    "    if show is not None:\n",
    "        fig = go.Figure()\n",
    "        magpy.show(c2, c1, style_path_show=1, canvas=fig)\n",
    "        fig.layout.title = ', '.join(f\"c1.{k} = {v}\" for k,v in kwargs.items())\n",
    "        fig.show()\n",
    "    return c1,c2\n",
    "\n",
    "c1, c2 = create_compound_set(show=True)\n",
    "create_compound_set(show=True, orientation='None')\n",
    "create_compound_set(show=True, position='np.array([[50, 0, 100]] * 2)')\n",
    "create_compound_set(show=True, orientation='R.from_rotvec([[90,0,0],[0,90,0]], degrees=True)')\n",
    "create_compound_set(show=True, position='np.array(np.linspace((280.,0.,0), (280.,0.,300), 8))')\n",
    "create_compound_set(show=True, orientation='R.from_rotvec([[0,90*i,0] for i in range(6)], degrees=True)');"
   ]
  }
 ],
 "metadata": {
  "kernelspec": {
   "display_name": "Python 3 (ipykernel)",
   "language": "python",
   "name": "python3"
  },
  "language_info": {
   "codemirror_mode": {
    "name": "ipython",
    "version": 3
   },
   "file_extension": ".py",
   "mimetype": "text/x-python",
   "name": "python",
   "nbconvert_exporter": "python",
   "pygments_lexer": "ipython3",
   "version": "3.9.7"
  }
 },
 "nbformat": 4,
 "nbformat_minor": 5
}
